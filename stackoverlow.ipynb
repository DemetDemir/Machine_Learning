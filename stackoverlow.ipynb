{
 "cells": [
  {
   "cell_type": "code",
   "execution_count": null,
   "metadata": {},
   "outputs": [],
   "source": [
    "import pandas as pd\n"
   ]
  },
  {
   "cell_type": "code",
   "execution_count": null,
   "metadata": {},
   "outputs": [],
   "source": [
    "df = pd.read_csv(r'C:\\Users\\Demet\\Python_Projects\\Tutorials\\Pandas\\Corey_Schafer\\data\\survey_results_public.csv', index_col='Respondent')\n",
    "schema_df = pd.read_csv(r'C:\\Users\\Demet\\Python_Projects\\Tutorials\\Pandas\\Corey_Schafer\\data\\survey_results_schema.csv', index_col='Column')"
   ]
  },
  {
   "cell_type": "code",
   "execution_count": null,
   "metadata": {},
   "outputs": [],
   "source": [
    "pd.set_option('display.max_columns', 200)  # or 1000\n",
    "pd.set_option('display.max_rows', 200)  # or 1000\n",
    "pd.set_option('display.max_colwidth', -1)  # or 199"
   ]
  },
  {
   "cell_type": "code",
   "execution_count": null,
   "metadata": {},
   "outputs": [],
   "source": [
    "df['Hobbyist']"
   ]
  },
  {
   "cell_type": "code",
   "execution_count": null,
   "metadata": {},
   "outputs": [],
   "source": [
    "df.loc[0:10,'Hobbyist':'Employment']"
   ]
  },
  {
   "cell_type": "code",
   "execution_count": null,
   "metadata": {},
   "outputs": [],
   "source": [
    "df.columns.values"
   ]
  },
  {
   "cell_type": "code",
   "execution_count": null,
   "metadata": {},
   "outputs": [],
   "source": [
    "schema_df.loc['Hobbyist']\n"
   ]
  },
  {
   "cell_type": "code",
   "execution_count": null,
   "metadata": {},
   "outputs": [],
   "source": [
    "schema_df.loc['MgrIdiot', 'QuestionText']"
   ]
  },
  {
   "cell_type": "code",
   "execution_count": null,
   "metadata": {},
   "outputs": [],
   "source": [
    "schema_df.sort_index()"
   ]
  },
  {
   "cell_type": "code",
   "execution_count": null,
   "metadata": {},
   "outputs": [],
   "source": [
    "schema_df.sort_index(ascending=False)"
   ]
  },
  {
   "cell_type": "code",
   "execution_count": 155,
   "metadata": {},
   "outputs": [
    {
     "data": {
      "text/plain": [
       "Respondent\n",
       "1        NaN                   \n",
       "2        NaN                   \n",
       "3        Average               \n",
       "4        A little below average\n",
       "5        A little above average\n",
       "                  ...          \n",
       "88377    NaN                   \n",
       "88601    NaN                   \n",
       "88802    NaN                   \n",
       "88816    NaN                   \n",
       "88863    NaN                   \n",
       "Name: ImpSyn, Length: 88883, dtype: object"
      ]
     },
     "execution_count": 155,
     "metadata": {},
     "output_type": "execute_result"
    }
   ],
   "source": []
  },
  {
   "cell_type": "code",
   "execution_count": null,
   "metadata": {},
   "outputs": [],
   "source": [
    "# df['ConvertedComp']\n",
    "# filt = df['ConvertedComp'] > 150000\n",
    "# df.loc[filt, ['LanguageWorkedWith', 'ConvertedComp', 'Country' ]].sort_values('ImpSyn', ascending=False)\n"
   ]
  },
  {
   "cell_type": "code",
   "execution_count": 160,
   "metadata": {},
   "outputs": [],
   "source": [
    "countries = ['United States', 'Germany', 'India', 'United Kingdom', 'Canada']\n",
    "filt = (df['Country'].isin(countries) & (df['ConvertedComp'] > 150000))"
   ]
  },
  {
   "cell_type": "code",
   "execution_count": 162,
   "metadata": {},
   "outputs": [
    {
     "data": {
      "text/html": [
       "<div>\n",
       "<style scoped>\n",
       "    .dataframe tbody tr th:only-of-type {\n",
       "        vertical-align: middle;\n",
       "    }\n",
       "\n",
       "    .dataframe tbody tr th {\n",
       "        vertical-align: top;\n",
       "    }\n",
       "\n",
       "    .dataframe thead th {\n",
       "        text-align: right;\n",
       "    }\n",
       "</style>\n",
       "<table border=\"1\" class=\"dataframe\">\n",
       "  <thead>\n",
       "    <tr style=\"text-align: right;\">\n",
       "      <th></th>\n",
       "      <th>LanguageWorkedWith</th>\n",
       "      <th>ConvertedComp</th>\n",
       "      <th>Country</th>\n",
       "    </tr>\n",
       "    <tr>\n",
       "      <th>Respondent</th>\n",
       "      <th></th>\n",
       "      <th></th>\n",
       "      <th></th>\n",
       "    </tr>\n",
       "  </thead>\n",
       "  <tbody>\n",
       "    <tr>\n",
       "      <th>88877</th>\n",
       "      <td>Bash/Shell/PowerShell;C;Clojure;HTML/CSS;Java;Scala;Swift;Other(s):</td>\n",
       "      <td>2000000.0</td>\n",
       "      <td>United States</td>\n",
       "    </tr>\n",
       "    <tr>\n",
       "      <th>19344</th>\n",
       "      <td>Bash/Shell/PowerShell;HTML/CSS;JavaScript;Python;SQL</td>\n",
       "      <td>2000000.0</td>\n",
       "      <td>United States</td>\n",
       "    </tr>\n",
       "    <tr>\n",
       "      <th>75571</th>\n",
       "      <td>C#;Ruby;SQL</td>\n",
       "      <td>2000000.0</td>\n",
       "      <td>United States</td>\n",
       "    </tr>\n",
       "    <tr>\n",
       "      <th>75548</th>\n",
       "      <td>Bash/Shell/PowerShell;HTML/CSS;Java;JavaScript;Python;SQL</td>\n",
       "      <td>2000000.0</td>\n",
       "      <td>United States</td>\n",
       "    </tr>\n",
       "    <tr>\n",
       "      <th>55104</th>\n",
       "      <td>Bash/Shell/PowerShell;C;C++;HTML/CSS;Java;JavaScript;Kotlin;Objective-C;Python;R;Ruby;Swift</td>\n",
       "      <td>2000000.0</td>\n",
       "      <td>United States</td>\n",
       "    </tr>\n",
       "    <tr>\n",
       "      <th>...</th>\n",
       "      <td>...</td>\n",
       "      <td>...</td>\n",
       "      <td>...</td>\n",
       "    </tr>\n",
       "    <tr>\n",
       "      <th>47691</th>\n",
       "      <td>Bash/Shell/PowerShell;Java;JavaScript;Python;Scala;SQL</td>\n",
       "      <td>150474.0</td>\n",
       "      <td>United Kingdom</td>\n",
       "    </tr>\n",
       "    <tr>\n",
       "      <th>877</th>\n",
       "      <td>Bash/Shell/PowerShell;C#;HTML/CSS;Java;JavaScript;SQL;Other(s):</td>\n",
       "      <td>150474.0</td>\n",
       "      <td>United Kingdom</td>\n",
       "    </tr>\n",
       "    <tr>\n",
       "      <th>47248</th>\n",
       "      <td>C#;SQL</td>\n",
       "      <td>150474.0</td>\n",
       "      <td>United Kingdom</td>\n",
       "    </tr>\n",
       "    <tr>\n",
       "      <th>11126</th>\n",
       "      <td>C#;HTML/CSS;JavaScript;SQL</td>\n",
       "      <td>150474.0</td>\n",
       "      <td>United Kingdom</td>\n",
       "    </tr>\n",
       "    <tr>\n",
       "      <th>34775</th>\n",
       "      <td>Bash/Shell/PowerShell;HTML/CSS;Java;JavaScript;SQL;TypeScript</td>\n",
       "      <td>150450.0</td>\n",
       "      <td>United Kingdom</td>\n",
       "    </tr>\n",
       "  </tbody>\n",
       "</table>\n",
       "<p>5563 rows × 3 columns</p>\n",
       "</div>"
      ],
      "text/plain": [
       "                                                                                     LanguageWorkedWith  \\\n",
       "Respondent                                                                                                \n",
       "88877       Bash/Shell/PowerShell;C;Clojure;HTML/CSS;Java;Scala;Swift;Other(s):                           \n",
       "19344       Bash/Shell/PowerShell;HTML/CSS;JavaScript;Python;SQL                                          \n",
       "75571       C#;Ruby;SQL                                                                                   \n",
       "75548       Bash/Shell/PowerShell;HTML/CSS;Java;JavaScript;Python;SQL                                     \n",
       "55104       Bash/Shell/PowerShell;C;C++;HTML/CSS;Java;JavaScript;Kotlin;Objective-C;Python;R;Ruby;Swift   \n",
       "...                                                               ...                                     \n",
       "47691       Bash/Shell/PowerShell;Java;JavaScript;Python;Scala;SQL                                        \n",
       "877         Bash/Shell/PowerShell;C#;HTML/CSS;Java;JavaScript;SQL;Other(s):                               \n",
       "47248       C#;SQL                                                                                        \n",
       "11126       C#;HTML/CSS;JavaScript;SQL                                                                    \n",
       "34775       Bash/Shell/PowerShell;HTML/CSS;Java;JavaScript;SQL;TypeScript                                 \n",
       "\n",
       "            ConvertedComp         Country  \n",
       "Respondent                                 \n",
       "88877       2000000.0      United States   \n",
       "19344       2000000.0      United States   \n",
       "75571       2000000.0      United States   \n",
       "75548       2000000.0      United States   \n",
       "55104       2000000.0      United States   \n",
       "...               ...                ...   \n",
       "47691       150474.0       United Kingdom  \n",
       "877         150474.0       United Kingdom  \n",
       "47248       150474.0       United Kingdom  \n",
       "11126       150474.0       United Kingdom  \n",
       "34775       150450.0       United Kingdom  \n",
       "\n",
       "[5563 rows x 3 columns]"
      ]
     },
     "execution_count": 162,
     "metadata": {},
     "output_type": "execute_result"
    }
   ],
   "source": [
    "df.loc[filt, ['LanguageWorkedWith', 'ConvertedComp', 'Country' ]].sort_values('ConvertedComp', ascending=False)"
   ]
  },
  {
   "cell_type": "code",
   "execution_count": 170,
   "metadata": {},
   "outputs": [
    {
     "name": "stdout",
     "output_type": "stream",
     "text": [
      "Respondent\n",
      "1        HTML/CSS;Java;JavaScript;Python                                \n",
      "2        C++;HTML/CSS;Python                                            \n",
      "4        C;C++;C#;Python;SQL                                            \n",
      "5        C++;HTML/CSS;Java;JavaScript;Python;SQL;VBA                    \n",
      "8        Bash/Shell/PowerShell;C;C++;HTML/CSS;Java;JavaScript;Python;SQL\n",
      "                                      ...                               \n",
      "84539    Bash/Shell/PowerShell;C;C++;HTML/CSS;Java;JavaScript;Python;SQL\n",
      "85738    Bash/Shell/PowerShell;C++;Python;Ruby;Other(s):                \n",
      "86566    Bash/Shell/PowerShell;HTML/CSS;Python;Other(s):                \n",
      "87739    C;C++;HTML/CSS;JavaScript;PHP;Python;SQL                       \n",
      "88212    HTML/CSS;JavaScript;Python                                     \n",
      "Name: LanguageWorkedWith, Length: 36443, dtype: object\n"
     ]
    }
   ],
   "source": [
    "filt2 = df['LanguageWorkedWith'].str.contains('Python', na=False)\n",
    "print(df.loc[filt2 , 'LanguageWorkedWith'])"
   ]
  },
  {
   "cell_type": "code",
   "execution_count": 172,
   "metadata": {},
   "outputs": [
    {
     "ename": "TypeError",
     "evalue": "split() got an unexpected keyword argument 'na'",
     "output_type": "error",
     "traceback": [
      "\u001b[1;31m---------------------------------------------------------------------------\u001b[0m",
      "\u001b[1;31mTypeError\u001b[0m                                 Traceback (most recent call last)",
      "\u001b[1;32mc:\\Users\\Demet\\Python_Projects\\Tutorials\\Pandas\\Corey_Schafer\\stackoverlow.ipynb Cell 16'\u001b[0m in \u001b[0;36m<cell line: 1>\u001b[1;34m()\u001b[0m\n\u001b[1;32m----> <a href='vscode-notebook-cell:/c%3A/Users/Demet/Python_Projects/Tutorials/Pandas/Corey_Schafer/stackoverlow.ipynb#ch0000021?line=0'>1</a>\u001b[0m filt3 \u001b[39m=\u001b[39m df[\u001b[39m'\u001b[39;49m\u001b[39mLanguageWorkedWith\u001b[39;49m\u001b[39m'\u001b[39;49m]\u001b[39m.\u001b[39;49mstr\u001b[39m.\u001b[39;49msplit(\u001b[39m'\u001b[39;49m\u001b[39m;\u001b[39;49m\u001b[39m'\u001b[39;49m, na\u001b[39m=\u001b[39;49m\u001b[39mFalse\u001b[39;49;00m)\n\u001b[0;32m      <a href='vscode-notebook-cell:/c%3A/Users/Demet/Python_Projects/Tutorials/Pandas/Corey_Schafer/stackoverlow.ipynb#ch0000021?line=1'>2</a>\u001b[0m df[filt3, [\u001b[39m'\u001b[39m\u001b[39mLanguageWorkedWith\u001b[39m\u001b[39m'\u001b[39m]]\n",
      "File \u001b[1;32m~\\AppData\\Local\\Programs\\Python\\Python38\\lib\\site-packages\\pandas\\core\\strings\\accessor.py:125\u001b[0m, in \u001b[0;36mforbid_nonstring_types.<locals>._forbid_nonstring_types.<locals>.wrapper\u001b[1;34m(self, *args, **kwargs)\u001b[0m\n\u001b[0;32m    <a href='file:///c%3A/Users/Demet/AppData/Local/Programs/Python/Python38/lib/site-packages/pandas/core/strings/accessor.py?line=119'>120</a>\u001b[0m     msg \u001b[39m=\u001b[39m (\n\u001b[0;32m    <a href='file:///c%3A/Users/Demet/AppData/Local/Programs/Python/Python38/lib/site-packages/pandas/core/strings/accessor.py?line=120'>121</a>\u001b[0m         \u001b[39mf\u001b[39m\u001b[39m\"\u001b[39m\u001b[39mCannot use .str.\u001b[39m\u001b[39m{\u001b[39;00mfunc_name\u001b[39m}\u001b[39;00m\u001b[39m with values of \u001b[39m\u001b[39m\"\u001b[39m\n\u001b[0;32m    <a href='file:///c%3A/Users/Demet/AppData/Local/Programs/Python/Python38/lib/site-packages/pandas/core/strings/accessor.py?line=121'>122</a>\u001b[0m         \u001b[39mf\u001b[39m\u001b[39m\"\u001b[39m\u001b[39minferred dtype \u001b[39m\u001b[39m'\u001b[39m\u001b[39m{\u001b[39;00m\u001b[39mself\u001b[39m\u001b[39m.\u001b[39m_inferred_dtype\u001b[39m}\u001b[39;00m\u001b[39m'\u001b[39m\u001b[39m.\u001b[39m\u001b[39m\"\u001b[39m\n\u001b[0;32m    <a href='file:///c%3A/Users/Demet/AppData/Local/Programs/Python/Python38/lib/site-packages/pandas/core/strings/accessor.py?line=122'>123</a>\u001b[0m     )\n\u001b[0;32m    <a href='file:///c%3A/Users/Demet/AppData/Local/Programs/Python/Python38/lib/site-packages/pandas/core/strings/accessor.py?line=123'>124</a>\u001b[0m     \u001b[39mraise\u001b[39;00m \u001b[39mTypeError\u001b[39;00m(msg)\n\u001b[1;32m--> <a href='file:///c%3A/Users/Demet/AppData/Local/Programs/Python/Python38/lib/site-packages/pandas/core/strings/accessor.py?line=124'>125</a>\u001b[0m \u001b[39mreturn\u001b[39;00m func(\u001b[39mself\u001b[39;49m, \u001b[39m*\u001b[39;49margs, \u001b[39m*\u001b[39;49m\u001b[39m*\u001b[39;49mkwargs)\n",
      "\u001b[1;31mTypeError\u001b[0m: split() got an unexpected keyword argument 'na'"
     ]
    }
   ],
   "source": [
    "filt3 = df['LanguageWorkedWith'].str.split(';', na=False)\n",
    "df[filt3, ['LanguageWorkedWith']]"
   ]
  },
  {
   "cell_type": "code",
   "execution_count": 182,
   "metadata": {},
   "outputs": [],
   "source": [
    "filt = df['Gender'] == 'Woman'\n",
    "w = df.loc[filt, 'Gender'].count()\n"
   ]
  },
  {
   "cell_type": "code",
   "execution_count": 194,
   "metadata": {},
   "outputs": [],
   "source": [
    "Genderdf = df['Gender'].value_counts().rename_axis('Gender').reset_index(name='Counts')"
   ]
  },
  {
   "cell_type": "code",
   "execution_count": 195,
   "metadata": {},
   "outputs": [
    {
     "data": {
      "text/html": [
       "<div>\n",
       "<style scoped>\n",
       "    .dataframe tbody tr th:only-of-type {\n",
       "        vertical-align: middle;\n",
       "    }\n",
       "\n",
       "    .dataframe tbody tr th {\n",
       "        vertical-align: top;\n",
       "    }\n",
       "\n",
       "    .dataframe thead th {\n",
       "        text-align: right;\n",
       "    }\n",
       "</style>\n",
       "<table border=\"1\" class=\"dataframe\">\n",
       "  <thead>\n",
       "    <tr style=\"text-align: right;\">\n",
       "      <th></th>\n",
       "      <th>Gender</th>\n",
       "      <th>Counts</th>\n",
       "    </tr>\n",
       "  </thead>\n",
       "  <tbody>\n",
       "    <tr>\n",
       "      <th>0</th>\n",
       "      <td>Man</td>\n",
       "      <td>77919</td>\n",
       "    </tr>\n",
       "    <tr>\n",
       "      <th>1</th>\n",
       "      <td>Woman</td>\n",
       "      <td>6344</td>\n",
       "    </tr>\n",
       "    <tr>\n",
       "      <th>2</th>\n",
       "      <td>Non-binary, genderqueer, or gender non-conforming</td>\n",
       "      <td>597</td>\n",
       "    </tr>\n",
       "    <tr>\n",
       "      <th>3</th>\n",
       "      <td>Man;Non-binary, genderqueer, or gender non-conforming</td>\n",
       "      <td>181</td>\n",
       "    </tr>\n",
       "    <tr>\n",
       "      <th>4</th>\n",
       "      <td>Woman;Non-binary, genderqueer, or gender non-conforming</td>\n",
       "      <td>163</td>\n",
       "    </tr>\n",
       "    <tr>\n",
       "      <th>5</th>\n",
       "      <td>Woman;Man</td>\n",
       "      <td>132</td>\n",
       "    </tr>\n",
       "    <tr>\n",
       "      <th>6</th>\n",
       "      <td>Woman;Man;Non-binary, genderqueer, or gender non-conforming</td>\n",
       "      <td>70</td>\n",
       "    </tr>\n",
       "  </tbody>\n",
       "</table>\n",
       "</div>"
      ],
      "text/plain": [
       "                                                        Gender  Counts\n",
       "0  Man                                                          77919 \n",
       "1  Woman                                                        6344  \n",
       "2  Non-binary, genderqueer, or gender non-conforming            597   \n",
       "3  Man;Non-binary, genderqueer, or gender non-conforming        181   \n",
       "4  Woman;Non-binary, genderqueer, or gender non-conforming      163   \n",
       "5  Woman;Man                                                    132   \n",
       "6  Woman;Man;Non-binary, genderqueer, or gender non-conforming  70    "
      ]
     },
     "execution_count": 195,
     "metadata": {},
     "output_type": "execute_result"
    }
   ],
   "source": [
    "Genderdf"
   ]
  },
  {
   "cell_type": "code",
   "execution_count": 196,
   "metadata": {},
   "outputs": [],
   "source": [
    "import matplotlib.pyplot as plt"
   ]
  },
  {
   "cell_type": "code",
   "execution_count": 206,
   "metadata": {},
   "outputs": [
    {
     "name": "stdout",
     "output_type": "stream",
     "text": [
      "['Man', 'Woman', 'Non-binary, genderqueer, or gender non-conforming', 'Man;Non-binary, genderqueer, or gender non-conforming', 'Woman;Non-binary, genderqueer, or gender non-conforming', 'Woman;Man', 'Woman;Man;Non-binary, genderqueer, or gender non-conforming']\n"
     ]
    }
   ],
   "source": [
    "x = list(Genderdf['Gender'])\n",
    "y = list(Genderdf['Counts'])\n",
    "\n",
    "print(x)"
   ]
  },
  {
   "cell_type": "code",
   "execution_count": 219,
   "metadata": {},
   "outputs": [
    {
     "ename": "TypeError",
     "evalue": "'value' must be an instance of str or bytes, not a float",
     "output_type": "error",
     "traceback": [
      "\u001b[1;31m---------------------------------------------------------------------------\u001b[0m",
      "\u001b[1;31mTypeError\u001b[0m                                 Traceback (most recent call last)",
      "\u001b[1;32mc:\\Users\\Demet\\Python_Projects\\Tutorials\\Pandas\\Corey_Schafer\\stackoverlow.ipynb Cell 22'\u001b[0m in \u001b[0;36m<cell line: 2>\u001b[1;34m()\u001b[0m\n\u001b[0;32m      <a href='vscode-notebook-cell:/c%3A/Users/Demet/Python_Projects/Tutorials/Pandas/Corey_Schafer/stackoverlow.ipynb#ch0000026?line=0'>1</a>\u001b[0m get_ipython()\u001b[39m.\u001b[39mrun_line_magic(\u001b[39m'\u001b[39m\u001b[39mmatplotlib\u001b[39m\u001b[39m'\u001b[39m, \u001b[39m'\u001b[39m\u001b[39minline\u001b[39m\u001b[39m'\u001b[39m)\n\u001b[1;32m----> <a href='vscode-notebook-cell:/c%3A/Users/Demet/Python_Projects/Tutorials/Pandas/Corey_Schafer/stackoverlow.ipynb#ch0000026?line=1'>2</a>\u001b[0m plt\u001b[39m.\u001b[39;49mscatter(x, y)\n\u001b[0;32m      <a href='vscode-notebook-cell:/c%3A/Users/Demet/Python_Projects/Tutorials/Pandas/Corey_Schafer/stackoverlow.ipynb#ch0000026?line=2'>3</a>\u001b[0m plt\u001b[39m.\u001b[39mxticks(rotation\u001b[39m=\u001b[39m\u001b[39m90\u001b[39m)\n",
      "File \u001b[1;32m~\\AppData\\Local\\Programs\\Python\\Python38\\lib\\site-packages\\matplotlib\\pyplot.py:2807\u001b[0m, in \u001b[0;36mscatter\u001b[1;34m(x, y, s, c, marker, cmap, norm, vmin, vmax, alpha, linewidths, edgecolors, plotnonfinite, data, **kwargs)\u001b[0m\n\u001b[0;32m   <a href='file:///c%3A/Users/Demet/AppData/Local/Programs/Python/Python38/lib/site-packages/matplotlib/pyplot.py?line=2801'>2802</a>\u001b[0m \u001b[39m@_copy_docstring_and_deprecators\u001b[39m(Axes\u001b[39m.\u001b[39mscatter)\n\u001b[0;32m   <a href='file:///c%3A/Users/Demet/AppData/Local/Programs/Python/Python38/lib/site-packages/matplotlib/pyplot.py?line=2802'>2803</a>\u001b[0m \u001b[39mdef\u001b[39;00m \u001b[39mscatter\u001b[39m(\n\u001b[0;32m   <a href='file:///c%3A/Users/Demet/AppData/Local/Programs/Python/Python38/lib/site-packages/matplotlib/pyplot.py?line=2803'>2804</a>\u001b[0m         x, y, s\u001b[39m=\u001b[39m\u001b[39mNone\u001b[39;00m, c\u001b[39m=\u001b[39m\u001b[39mNone\u001b[39;00m, marker\u001b[39m=\u001b[39m\u001b[39mNone\u001b[39;00m, cmap\u001b[39m=\u001b[39m\u001b[39mNone\u001b[39;00m, norm\u001b[39m=\u001b[39m\u001b[39mNone\u001b[39;00m,\n\u001b[0;32m   <a href='file:///c%3A/Users/Demet/AppData/Local/Programs/Python/Python38/lib/site-packages/matplotlib/pyplot.py?line=2804'>2805</a>\u001b[0m         vmin\u001b[39m=\u001b[39m\u001b[39mNone\u001b[39;00m, vmax\u001b[39m=\u001b[39m\u001b[39mNone\u001b[39;00m, alpha\u001b[39m=\u001b[39m\u001b[39mNone\u001b[39;00m, linewidths\u001b[39m=\u001b[39m\u001b[39mNone\u001b[39;00m, \u001b[39m*\u001b[39m,\n\u001b[0;32m   <a href='file:///c%3A/Users/Demet/AppData/Local/Programs/Python/Python38/lib/site-packages/matplotlib/pyplot.py?line=2805'>2806</a>\u001b[0m         edgecolors\u001b[39m=\u001b[39m\u001b[39mNone\u001b[39;00m, plotnonfinite\u001b[39m=\u001b[39m\u001b[39mFalse\u001b[39;00m, data\u001b[39m=\u001b[39m\u001b[39mNone\u001b[39;00m, \u001b[39m*\u001b[39m\u001b[39m*\u001b[39mkwargs):\n\u001b[1;32m-> <a href='file:///c%3A/Users/Demet/AppData/Local/Programs/Python/Python38/lib/site-packages/matplotlib/pyplot.py?line=2806'>2807</a>\u001b[0m     __ret \u001b[39m=\u001b[39m gca()\u001b[39m.\u001b[39;49mscatter(\n\u001b[0;32m   <a href='file:///c%3A/Users/Demet/AppData/Local/Programs/Python/Python38/lib/site-packages/matplotlib/pyplot.py?line=2807'>2808</a>\u001b[0m         x, y, s\u001b[39m=\u001b[39;49ms, c\u001b[39m=\u001b[39;49mc, marker\u001b[39m=\u001b[39;49mmarker, cmap\u001b[39m=\u001b[39;49mcmap, norm\u001b[39m=\u001b[39;49mnorm,\n\u001b[0;32m   <a href='file:///c%3A/Users/Demet/AppData/Local/Programs/Python/Python38/lib/site-packages/matplotlib/pyplot.py?line=2808'>2809</a>\u001b[0m         vmin\u001b[39m=\u001b[39;49mvmin, vmax\u001b[39m=\u001b[39;49mvmax, alpha\u001b[39m=\u001b[39;49malpha, linewidths\u001b[39m=\u001b[39;49mlinewidths,\n\u001b[0;32m   <a href='file:///c%3A/Users/Demet/AppData/Local/Programs/Python/Python38/lib/site-packages/matplotlib/pyplot.py?line=2809'>2810</a>\u001b[0m         edgecolors\u001b[39m=\u001b[39;49medgecolors, plotnonfinite\u001b[39m=\u001b[39;49mplotnonfinite,\n\u001b[0;32m   <a href='file:///c%3A/Users/Demet/AppData/Local/Programs/Python/Python38/lib/site-packages/matplotlib/pyplot.py?line=2810'>2811</a>\u001b[0m         \u001b[39m*\u001b[39;49m\u001b[39m*\u001b[39;49m({\u001b[39m\"\u001b[39;49m\u001b[39mdata\u001b[39;49m\u001b[39m\"\u001b[39;49m: data} \u001b[39mif\u001b[39;49;00m data \u001b[39mis\u001b[39;49;00m \u001b[39mnot\u001b[39;49;00m \u001b[39mNone\u001b[39;49;00m \u001b[39melse\u001b[39;49;00m {}), \u001b[39m*\u001b[39;49m\u001b[39m*\u001b[39;49mkwargs)\n\u001b[0;32m   <a href='file:///c%3A/Users/Demet/AppData/Local/Programs/Python/Python38/lib/site-packages/matplotlib/pyplot.py?line=2811'>2812</a>\u001b[0m     sci(__ret)\n\u001b[0;32m   <a href='file:///c%3A/Users/Demet/AppData/Local/Programs/Python/Python38/lib/site-packages/matplotlib/pyplot.py?line=2812'>2813</a>\u001b[0m     \u001b[39mreturn\u001b[39;00m __ret\n",
      "File \u001b[1;32m~\\AppData\\Local\\Programs\\Python\\Python38\\lib\\site-packages\\matplotlib\\__init__.py:1412\u001b[0m, in \u001b[0;36m_preprocess_data.<locals>.inner\u001b[1;34m(ax, data, *args, **kwargs)\u001b[0m\n\u001b[0;32m   <a href='file:///c%3A/Users/Demet/AppData/Local/Programs/Python/Python38/lib/site-packages/matplotlib/__init__.py?line=1408'>1409</a>\u001b[0m \u001b[39m@functools\u001b[39m\u001b[39m.\u001b[39mwraps(func)\n\u001b[0;32m   <a href='file:///c%3A/Users/Demet/AppData/Local/Programs/Python/Python38/lib/site-packages/matplotlib/__init__.py?line=1409'>1410</a>\u001b[0m \u001b[39mdef\u001b[39;00m \u001b[39minner\u001b[39m(ax, \u001b[39m*\u001b[39margs, data\u001b[39m=\u001b[39m\u001b[39mNone\u001b[39;00m, \u001b[39m*\u001b[39m\u001b[39m*\u001b[39mkwargs):\n\u001b[0;32m   <a href='file:///c%3A/Users/Demet/AppData/Local/Programs/Python/Python38/lib/site-packages/matplotlib/__init__.py?line=1410'>1411</a>\u001b[0m     \u001b[39mif\u001b[39;00m data \u001b[39mis\u001b[39;00m \u001b[39mNone\u001b[39;00m:\n\u001b[1;32m-> <a href='file:///c%3A/Users/Demet/AppData/Local/Programs/Python/Python38/lib/site-packages/matplotlib/__init__.py?line=1411'>1412</a>\u001b[0m         \u001b[39mreturn\u001b[39;00m func(ax, \u001b[39m*\u001b[39;49m\u001b[39mmap\u001b[39;49m(sanitize_sequence, args), \u001b[39m*\u001b[39;49m\u001b[39m*\u001b[39;49mkwargs)\n\u001b[0;32m   <a href='file:///c%3A/Users/Demet/AppData/Local/Programs/Python/Python38/lib/site-packages/matplotlib/__init__.py?line=1413'>1414</a>\u001b[0m     bound \u001b[39m=\u001b[39m new_sig\u001b[39m.\u001b[39mbind(ax, \u001b[39m*\u001b[39margs, \u001b[39m*\u001b[39m\u001b[39m*\u001b[39mkwargs)\n\u001b[0;32m   <a href='file:///c%3A/Users/Demet/AppData/Local/Programs/Python/Python38/lib/site-packages/matplotlib/__init__.py?line=1414'>1415</a>\u001b[0m     auto_label \u001b[39m=\u001b[39m (bound\u001b[39m.\u001b[39marguments\u001b[39m.\u001b[39mget(label_namer)\n\u001b[0;32m   <a href='file:///c%3A/Users/Demet/AppData/Local/Programs/Python/Python38/lib/site-packages/matplotlib/__init__.py?line=1415'>1416</a>\u001b[0m                   \u001b[39mor\u001b[39;00m bound\u001b[39m.\u001b[39mkwargs\u001b[39m.\u001b[39mget(label_namer))\n",
      "File \u001b[1;32m~\\AppData\\Local\\Programs\\Python\\Python38\\lib\\site-packages\\matplotlib\\axes\\_axes.py:4363\u001b[0m, in \u001b[0;36mAxes.scatter\u001b[1;34m(self, x, y, s, c, marker, cmap, norm, vmin, vmax, alpha, linewidths, edgecolors, plotnonfinite, **kwargs)\u001b[0m\n\u001b[0;32m   <a href='file:///c%3A/Users/Demet/AppData/Local/Programs/Python/Python38/lib/site-packages/matplotlib/axes/_axes.py?line=4248'>4249</a>\u001b[0m \u001b[39m\"\"\"\u001b[39;00m\n\u001b[0;32m   <a href='file:///c%3A/Users/Demet/AppData/Local/Programs/Python/Python38/lib/site-packages/matplotlib/axes/_axes.py?line=4249'>4250</a>\u001b[0m \u001b[39mA scatter plot of *y* vs. *x* with varying marker size and/or color.\u001b[39;00m\n\u001b[0;32m   <a href='file:///c%3A/Users/Demet/AppData/Local/Programs/Python/Python38/lib/site-packages/matplotlib/axes/_axes.py?line=4250'>4251</a>\u001b[0m \n\u001b[1;32m   (...)\u001b[0m\n\u001b[0;32m   <a href='file:///c%3A/Users/Demet/AppData/Local/Programs/Python/Python38/lib/site-packages/matplotlib/axes/_axes.py?line=4359'>4360</a>\u001b[0m \n\u001b[0;32m   <a href='file:///c%3A/Users/Demet/AppData/Local/Programs/Python/Python38/lib/site-packages/matplotlib/axes/_axes.py?line=4360'>4361</a>\u001b[0m \u001b[39m\"\"\"\u001b[39;00m\n\u001b[0;32m   <a href='file:///c%3A/Users/Demet/AppData/Local/Programs/Python/Python38/lib/site-packages/matplotlib/axes/_axes.py?line=4361'>4362</a>\u001b[0m \u001b[39m# Process **kwargs to handle aliases, conflicts with explicit kwargs:\u001b[39;00m\n\u001b[1;32m-> <a href='file:///c%3A/Users/Demet/AppData/Local/Programs/Python/Python38/lib/site-packages/matplotlib/axes/_axes.py?line=4362'>4363</a>\u001b[0m x, y \u001b[39m=\u001b[39m \u001b[39mself\u001b[39;49m\u001b[39m.\u001b[39;49m_process_unit_info([(\u001b[39m\"\u001b[39;49m\u001b[39mx\u001b[39;49m\u001b[39m\"\u001b[39;49m, x), (\u001b[39m\"\u001b[39;49m\u001b[39my\u001b[39;49m\u001b[39m\"\u001b[39;49m, y)], kwargs)\n\u001b[0;32m   <a href='file:///c%3A/Users/Demet/AppData/Local/Programs/Python/Python38/lib/site-packages/matplotlib/axes/_axes.py?line=4363'>4364</a>\u001b[0m \u001b[39m# np.ma.ravel yields an ndarray, not a masked array,\u001b[39;00m\n\u001b[0;32m   <a href='file:///c%3A/Users/Demet/AppData/Local/Programs/Python/Python38/lib/site-packages/matplotlib/axes/_axes.py?line=4364'>4365</a>\u001b[0m \u001b[39m# unless its argument is a masked array.\u001b[39;00m\n\u001b[0;32m   <a href='file:///c%3A/Users/Demet/AppData/Local/Programs/Python/Python38/lib/site-packages/matplotlib/axes/_axes.py?line=4365'>4366</a>\u001b[0m x \u001b[39m=\u001b[39m np\u001b[39m.\u001b[39mma\u001b[39m.\u001b[39mravel(x)\n",
      "File \u001b[1;32m~\\AppData\\Local\\Programs\\Python\\Python38\\lib\\site-packages\\matplotlib\\axes\\_base.py:2521\u001b[0m, in \u001b[0;36m_AxesBase._process_unit_info\u001b[1;34m(self, datasets, kwargs, convert)\u001b[0m\n\u001b[0;32m   <a href='file:///c%3A/Users/Demet/AppData/Local/Programs/Python/Python38/lib/site-packages/matplotlib/axes/_base.py?line=2518'>2519</a>\u001b[0m     \u001b[39m# Update from data if axis is already set but no unit is set yet.\u001b[39;00m\n\u001b[0;32m   <a href='file:///c%3A/Users/Demet/AppData/Local/Programs/Python/Python38/lib/site-packages/matplotlib/axes/_base.py?line=2519'>2520</a>\u001b[0m     \u001b[39mif\u001b[39;00m axis \u001b[39mis\u001b[39;00m \u001b[39mnot\u001b[39;00m \u001b[39mNone\u001b[39;00m \u001b[39mand\u001b[39;00m data \u001b[39mis\u001b[39;00m \u001b[39mnot\u001b[39;00m \u001b[39mNone\u001b[39;00m \u001b[39mand\u001b[39;00m \u001b[39mnot\u001b[39;00m axis\u001b[39m.\u001b[39mhave_units():\n\u001b[1;32m-> <a href='file:///c%3A/Users/Demet/AppData/Local/Programs/Python/Python38/lib/site-packages/matplotlib/axes/_base.py?line=2520'>2521</a>\u001b[0m         axis\u001b[39m.\u001b[39;49mupdate_units(data)\n\u001b[0;32m   <a href='file:///c%3A/Users/Demet/AppData/Local/Programs/Python/Python38/lib/site-packages/matplotlib/axes/_base.py?line=2521'>2522</a>\u001b[0m \u001b[39mfor\u001b[39;00m axis_name, axis \u001b[39min\u001b[39;00m axis_map\u001b[39m.\u001b[39mitems():\n\u001b[0;32m   <a href='file:///c%3A/Users/Demet/AppData/Local/Programs/Python/Python38/lib/site-packages/matplotlib/axes/_base.py?line=2522'>2523</a>\u001b[0m     \u001b[39m# Return if no axis is set.\u001b[39;00m\n\u001b[0;32m   <a href='file:///c%3A/Users/Demet/AppData/Local/Programs/Python/Python38/lib/site-packages/matplotlib/axes/_base.py?line=2523'>2524</a>\u001b[0m     \u001b[39mif\u001b[39;00m axis \u001b[39mis\u001b[39;00m \u001b[39mNone\u001b[39;00m:\n",
      "File \u001b[1;32m~\\AppData\\Local\\Programs\\Python\\Python38\\lib\\site-packages\\matplotlib\\axis.py:1449\u001b[0m, in \u001b[0;36mAxis.update_units\u001b[1;34m(self, data)\u001b[0m\n\u001b[0;32m   <a href='file:///c%3A/Users/Demet/AppData/Local/Programs/Python/Python38/lib/site-packages/matplotlib/axis.py?line=1446'>1447</a>\u001b[0m neednew \u001b[39m=\u001b[39m \u001b[39mself\u001b[39m\u001b[39m.\u001b[39mconverter \u001b[39m!=\u001b[39m converter\n\u001b[0;32m   <a href='file:///c%3A/Users/Demet/AppData/Local/Programs/Python/Python38/lib/site-packages/matplotlib/axis.py?line=1447'>1448</a>\u001b[0m \u001b[39mself\u001b[39m\u001b[39m.\u001b[39mconverter \u001b[39m=\u001b[39m converter\n\u001b[1;32m-> <a href='file:///c%3A/Users/Demet/AppData/Local/Programs/Python/Python38/lib/site-packages/matplotlib/axis.py?line=1448'>1449</a>\u001b[0m default \u001b[39m=\u001b[39m \u001b[39mself\u001b[39;49m\u001b[39m.\u001b[39;49mconverter\u001b[39m.\u001b[39;49mdefault_units(data, \u001b[39mself\u001b[39;49m)\n\u001b[0;32m   <a href='file:///c%3A/Users/Demet/AppData/Local/Programs/Python/Python38/lib/site-packages/matplotlib/axis.py?line=1449'>1450</a>\u001b[0m \u001b[39mif\u001b[39;00m default \u001b[39mis\u001b[39;00m \u001b[39mnot\u001b[39;00m \u001b[39mNone\u001b[39;00m \u001b[39mand\u001b[39;00m \u001b[39mself\u001b[39m\u001b[39m.\u001b[39munits \u001b[39mis\u001b[39;00m \u001b[39mNone\u001b[39;00m:\n\u001b[0;32m   <a href='file:///c%3A/Users/Demet/AppData/Local/Programs/Python/Python38/lib/site-packages/matplotlib/axis.py?line=1450'>1451</a>\u001b[0m     \u001b[39mself\u001b[39m\u001b[39m.\u001b[39mset_units(default)\n",
      "File \u001b[1;32m~\\AppData\\Local\\Programs\\Python\\Python38\\lib\\site-packages\\matplotlib\\category.py:116\u001b[0m, in \u001b[0;36mStrCategoryConverter.default_units\u001b[1;34m(data, axis)\u001b[0m\n\u001b[0;32m    <a href='file:///c%3A/Users/Demet/AppData/Local/Programs/Python/Python38/lib/site-packages/matplotlib/category.py?line=113'>114</a>\u001b[0m \u001b[39m# the conversion call stack is default_units -> axis_info -> convert\u001b[39;00m\n\u001b[0;32m    <a href='file:///c%3A/Users/Demet/AppData/Local/Programs/Python/Python38/lib/site-packages/matplotlib/category.py?line=114'>115</a>\u001b[0m \u001b[39mif\u001b[39;00m axis\u001b[39m.\u001b[39munits \u001b[39mis\u001b[39;00m \u001b[39mNone\u001b[39;00m:\n\u001b[1;32m--> <a href='file:///c%3A/Users/Demet/AppData/Local/Programs/Python/Python38/lib/site-packages/matplotlib/category.py?line=115'>116</a>\u001b[0m     axis\u001b[39m.\u001b[39mset_units(UnitData(data))\n\u001b[0;32m    <a href='file:///c%3A/Users/Demet/AppData/Local/Programs/Python/Python38/lib/site-packages/matplotlib/category.py?line=116'>117</a>\u001b[0m \u001b[39melse\u001b[39;00m:\n\u001b[0;32m    <a href='file:///c%3A/Users/Demet/AppData/Local/Programs/Python/Python38/lib/site-packages/matplotlib/category.py?line=117'>118</a>\u001b[0m     axis\u001b[39m.\u001b[39munits\u001b[39m.\u001b[39mupdate(data)\n",
      "File \u001b[1;32m~\\AppData\\Local\\Programs\\Python\\Python38\\lib\\site-packages\\matplotlib\\category.py:192\u001b[0m, in \u001b[0;36mUnitData.__init__\u001b[1;34m(self, data)\u001b[0m\n\u001b[0;32m    <a href='file:///c%3A/Users/Demet/AppData/Local/Programs/Python/Python38/lib/site-packages/matplotlib/category.py?line=189'>190</a>\u001b[0m \u001b[39mself\u001b[39m\u001b[39m.\u001b[39m_counter \u001b[39m=\u001b[39m itertools\u001b[39m.\u001b[39mcount()\n\u001b[0;32m    <a href='file:///c%3A/Users/Demet/AppData/Local/Programs/Python/Python38/lib/site-packages/matplotlib/category.py?line=190'>191</a>\u001b[0m \u001b[39mif\u001b[39;00m data \u001b[39mis\u001b[39;00m \u001b[39mnot\u001b[39;00m \u001b[39mNone\u001b[39;00m:\n\u001b[1;32m--> <a href='file:///c%3A/Users/Demet/AppData/Local/Programs/Python/Python38/lib/site-packages/matplotlib/category.py?line=191'>192</a>\u001b[0m     \u001b[39mself\u001b[39;49m\u001b[39m.\u001b[39;49mupdate(data)\n",
      "File \u001b[1;32m~\\AppData\\Local\\Programs\\Python\\Python38\\lib\\site-packages\\matplotlib\\category.py:227\u001b[0m, in \u001b[0;36mUnitData.update\u001b[1;34m(self, data)\u001b[0m\n\u001b[0;32m    <a href='file:///c%3A/Users/Demet/AppData/Local/Programs/Python/Python38/lib/site-packages/matplotlib/category.py?line=223'>224</a>\u001b[0m convertible \u001b[39m=\u001b[39m \u001b[39mTrue\u001b[39;00m\n\u001b[0;32m    <a href='file:///c%3A/Users/Demet/AppData/Local/Programs/Python/Python38/lib/site-packages/matplotlib/category.py?line=224'>225</a>\u001b[0m \u001b[39mfor\u001b[39;00m val \u001b[39min\u001b[39;00m OrderedDict\u001b[39m.\u001b[39mfromkeys(data):\n\u001b[0;32m    <a href='file:///c%3A/Users/Demet/AppData/Local/Programs/Python/Python38/lib/site-packages/matplotlib/category.py?line=225'>226</a>\u001b[0m     \u001b[39m# OrderedDict just iterates over unique values in data.\u001b[39;00m\n\u001b[1;32m--> <a href='file:///c%3A/Users/Demet/AppData/Local/Programs/Python/Python38/lib/site-packages/matplotlib/category.py?line=226'>227</a>\u001b[0m     _api\u001b[39m.\u001b[39;49mcheck_isinstance((\u001b[39mstr\u001b[39;49m, \u001b[39mbytes\u001b[39;49m), value\u001b[39m=\u001b[39;49mval)\n\u001b[0;32m    <a href='file:///c%3A/Users/Demet/AppData/Local/Programs/Python/Python38/lib/site-packages/matplotlib/category.py?line=227'>228</a>\u001b[0m     \u001b[39mif\u001b[39;00m convertible:\n\u001b[0;32m    <a href='file:///c%3A/Users/Demet/AppData/Local/Programs/Python/Python38/lib/site-packages/matplotlib/category.py?line=228'>229</a>\u001b[0m         \u001b[39m# this will only be called so long as convertible is True.\u001b[39;00m\n\u001b[0;32m    <a href='file:///c%3A/Users/Demet/AppData/Local/Programs/Python/Python38/lib/site-packages/matplotlib/category.py?line=229'>230</a>\u001b[0m         convertible \u001b[39m=\u001b[39m \u001b[39mself\u001b[39m\u001b[39m.\u001b[39m_str_is_convertible(val)\n",
      "File \u001b[1;32m~\\AppData\\Local\\Programs\\Python\\Python38\\lib\\site-packages\\matplotlib\\_api\\__init__.py:93\u001b[0m, in \u001b[0;36mcheck_isinstance\u001b[1;34m(_types, **kwargs)\u001b[0m\n\u001b[0;32m     <a href='file:///c%3A/Users/Demet/AppData/Local/Programs/Python/Python38/lib/site-packages/matplotlib/_api/__init__.py?line=90'>91</a>\u001b[0m     names\u001b[39m.\u001b[39mremove(\u001b[39m\"\u001b[39m\u001b[39mNone\u001b[39m\u001b[39m\"\u001b[39m)\n\u001b[0;32m     <a href='file:///c%3A/Users/Demet/AppData/Local/Programs/Python/Python38/lib/site-packages/matplotlib/_api/__init__.py?line=91'>92</a>\u001b[0m     names\u001b[39m.\u001b[39mappend(\u001b[39m\"\u001b[39m\u001b[39mNone\u001b[39m\u001b[39m\"\u001b[39m)\n\u001b[1;32m---> <a href='file:///c%3A/Users/Demet/AppData/Local/Programs/Python/Python38/lib/site-packages/matplotlib/_api/__init__.py?line=92'>93</a>\u001b[0m \u001b[39mraise\u001b[39;00m \u001b[39mTypeError\u001b[39;00m(\n\u001b[0;32m     <a href='file:///c%3A/Users/Demet/AppData/Local/Programs/Python/Python38/lib/site-packages/matplotlib/_api/__init__.py?line=93'>94</a>\u001b[0m     \u001b[39m\"\u001b[39m\u001b[39m{!r}\u001b[39;00m\u001b[39m must be an instance of \u001b[39m\u001b[39m{}\u001b[39;00m\u001b[39m, not a \u001b[39m\u001b[39m{}\u001b[39;00m\u001b[39m\"\u001b[39m\u001b[39m.\u001b[39mformat(\n\u001b[0;32m     <a href='file:///c%3A/Users/Demet/AppData/Local/Programs/Python/Python38/lib/site-packages/matplotlib/_api/__init__.py?line=94'>95</a>\u001b[0m         k,\n\u001b[0;32m     <a href='file:///c%3A/Users/Demet/AppData/Local/Programs/Python/Python38/lib/site-packages/matplotlib/_api/__init__.py?line=95'>96</a>\u001b[0m         \u001b[39m\"\u001b[39m\u001b[39m, \u001b[39m\u001b[39m\"\u001b[39m\u001b[39m.\u001b[39mjoin(names[:\u001b[39m-\u001b[39m\u001b[39m1\u001b[39m]) \u001b[39m+\u001b[39m \u001b[39m\"\u001b[39m\u001b[39m or \u001b[39m\u001b[39m\"\u001b[39m \u001b[39m+\u001b[39m names[\u001b[39m-\u001b[39m\u001b[39m1\u001b[39m]\n\u001b[0;32m     <a href='file:///c%3A/Users/Demet/AppData/Local/Programs/Python/Python38/lib/site-packages/matplotlib/_api/__init__.py?line=96'>97</a>\u001b[0m         \u001b[39mif\u001b[39;00m \u001b[39mlen\u001b[39m(names) \u001b[39m>\u001b[39m \u001b[39m1\u001b[39m \u001b[39melse\u001b[39;00m names[\u001b[39m0\u001b[39m],\n\u001b[0;32m     <a href='file:///c%3A/Users/Demet/AppData/Local/Programs/Python/Python38/lib/site-packages/matplotlib/_api/__init__.py?line=97'>98</a>\u001b[0m         type_name(\u001b[39mtype\u001b[39m(v))))\n",
      "\u001b[1;31mTypeError\u001b[0m: 'value' must be an instance of str or bytes, not a float"
     ]
    },
    {
     "data": {
      "image/png": "[encoded data removed]",
      "text/plain": [
       "<Figure size 432x288 with 1 Axes>"
      ]
     },
     "metadata": {
      "needs_background": "light"
     },
     "output_type": "display_data"
    }
   ],
   "source": [
    "%matplotlib inline\n",
    "plt.bar(x, y)\n",
    "plt.xticks(rotation=90)"
   ]
  },
  {
   "cell_type": "code",
   "execution_count": 216,
   "metadata": {},
   "outputs": [],
   "source": [
    "#df.loc[['LanguageWorkedWith', 'ConvertedComp']\n",
    "#df['LanguageWorkedWith']\n",
    "x = list(df['LanguageWorkedWith'])\n",
    "y = list(df['ConvertedComp'])\n"
   ]
  }
 ],
 "metadata": {
  "interpreter": {
   "hash": "2b920a0dd6fa66314f63a6e65b23df7e6beaf2330f986576183e8b95d0d7e71f"
  },
  "kernelspec": {
   "display_name": "Python 3.8.0 64-bit",
   "language": "python",
   "name": "python3"
  },
  "language_info": {
   "codemirror_mode": {
    "name": "ipython",
    "version": 3
   },
   "file_extension": ".py",
   "mimetype": "text/x-python",
   "name": "python",
   "nbconvert_exporter": "python",
   "pygments_lexer": "ipython3",
   "version": "3.8.0"
  },
  "orig_nbformat": 4
 },
 "nbformat": 4,
 "nbformat_minor": 2
}
